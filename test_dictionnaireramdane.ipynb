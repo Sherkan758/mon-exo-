{
 "cells": [
  {
   "cell_type": "markdown",
   "id": "f852cfb9",
   "metadata": {},
   "source": [
    "## Test sur la manipulation des dictionnaires en python"
   ]
  },
  {
   "cell_type": "code",
   "execution_count": 2,
   "id": "1d3c5884",
   "metadata": {},
   "outputs": [],
   "source": [
    "# 📝 Complétez les fonctions suivantes qui manipulent des dictionnaires\n",
    "\n",
    "def ajouter_cle(d: dict[str, int], cle: str, valeur: int) -> dict[str, int]:\n",
    "    \"\"\"\n",
    "    Ajoute une nouvelle clé avec sa valeur au dictionnaire.\n",
    "    Si la clé existe déjà, ne fait rien.\n",
    "    Retourne le dictionnaire mis à jour.\n",
    "    \"\"\"\n",
    "    pass\n",
    "\n",
    "def mettre_a_jour_valeur(d: dict[str, int], cle: str, nouvelle_valeur: int) -> dict[str, int]:\n",
    "    \"\"\"\n",
    "    Met à jour la valeur d'une clé existante.\n",
    "    Si la clé n'existe pas, le dictionnaire reste inchangé.\n",
    "    \"\"\"\n",
    "    pass\n",
    "\n",
    "def supprimer_cle(d: dict[str, int], cle: str) -> dict[str, int]:\n",
    "    \"\"\"\n",
    "    Supprime la clé spécifiée si elle existe.\n",
    "    Retourne le dictionnaire mis à jour.\n",
    "    \"\"\"\n",
    "    pass\n",
    "\n",
    "def valeur_maximale(d: dict[str, int]) -> int | None:\n",
    "    \"\"\"\n",
    "    Retourne la valeur maximale présente dans le dictionnaire.\n",
    "    Si le dictionnaire est vide, retourne None.\n",
    "    \"\"\"\n",
    "    pass\n",
    "\n",
    "def contient_valeur(d: dict[str, int], valeur: int) -> bool:\n",
    "    \"\"\"\n",
    "    Retourne True si la valeur existe dans le dictionnaire, sinon False.\n",
    "    \"\"\"\n",
    "    pass\n"
   ]
  },
  {
   "cell_type": "code",
   "execution_count": 3,
   "id": "de996aa4",
   "metadata": {},
   "outputs": [
    {
     "name": "stdout",
     "output_type": "stream",
     "text": [
      "❌ ajouter_cle({'a': 1}, 'b', 2) → None, attendu : {'a': 1, 'b': 2}\n",
      "❌ ajouter_cle({'a': 1}, 'a', 3) → None, attendu : {'a': 1}\n",
      "❌ mettre_a_jour_valeur({'a': 1, 'b': 2}, 'a', 5) → None, attendu : {'a': 5, 'b': 2}\n",
      "❌ mettre_a_jour_valeur({'a': 1, 'b': 2}, 'c', 9) → None, attendu : {'a': 1, 'b': 2}\n",
      "❌ supprimer_cle({'a': 1, 'b': 2}, 'a') → None, attendu : {'b': 2}\n",
      "❌ supprimer_cle({'a': 1}, 'z') → None, attendu : {'a': 1}\n",
      "❌ valeur_maximale({'a': 1, 'b': 3, 'c': 2},) → None, attendu : 3\n",
      "✅ valeur_maximale({},) == None → OK\n",
      "❌ contient_valeur({'a': 10, 'b': 20}, 10) → None, attendu : True\n",
      "❌ contient_valeur({'a': 10, 'b': 20}, 99) → None, attendu : False\n",
      "\n",
      "📊 Résumé des tests :\n",
      "✅ Réussis : 1\n",
      "❌ Échoués : 9\n"
     ]
    }
   ],
   "source": [
    "# ✅ Cellule de test des fonctions de dictionnaire\n",
    "\n",
    "def run_dict_tests():\n",
    "    tests = [\n",
    "        (\"ajouter_cle\", ajouter_cle, ({\"a\": 1}, \"b\", 2), {\"a\": 1, \"b\": 2}),\n",
    "        (\"ajouter_cle\", ajouter_cle, ({\"a\": 1}, \"a\", 3), {\"a\": 1}),\n",
    "\n",
    "        (\"mettre_a_jour_valeur\", mettre_a_jour_valeur, ({\"a\": 1, \"b\": 2}, \"a\", 5), {\"a\": 5, \"b\": 2}),\n",
    "        (\"mettre_a_jour_valeur\", mettre_a_jour_valeur, ({\"a\": 1, \"b\": 2}, \"c\", 9), {\"a\": 1, \"b\": 2}),\n",
    "\n",
    "        (\"supprimer_cle\", supprimer_cle, ({\"a\": 1, \"b\": 2}, \"a\"), {\"b\": 2}),\n",
    "        (\"supprimer_cle\", supprimer_cle, ({\"a\": 1}, \"z\"), {\"a\": 1}),\n",
    "\n",
    "        (\"valeur_maximale\", valeur_maximale, ({\"a\": 1, \"b\": 3, \"c\": 2},), 3),\n",
    "        (\"valeur_maximale\", valeur_maximale, ({},), None),\n",
    "\n",
    "        (\"contient_valeur\", contient_valeur, ({\"a\": 10, \"b\": 20}, 10), True),\n",
    "        (\"contient_valeur\", contient_valeur, ({\"a\": 10, \"b\": 20}, 99), False),\n",
    "    ]\n",
    "\n",
    "    passed = 0\n",
    "    failed = 0\n",
    "\n",
    "    for name, func, inputs, expected in tests:\n",
    "        try:\n",
    "            result = func(*inputs)\n",
    "            if result == expected:\n",
    "                print(f\"✅ {name}{inputs} == {expected} → OK\")\n",
    "                passed += 1\n",
    "            else:\n",
    "                print(f\"❌ {name}{inputs} → {result}, attendu : {expected}\")\n",
    "                failed += 1\n",
    "        except Exception as e:\n",
    "            print(f\"❌ {name}{inputs} → Erreur inattendue : {e}\")\n",
    "            failed += 1\n",
    "\n",
    "    print(\"\\n📊 Résumé des tests :\")\n",
    "    print(f\"✅ Réussis : {passed}\")\n",
    "    print(f\"❌ Échoués : {failed}\")\n",
    "\n",
    "run_dict_tests()\n"
   ]
  }
 ],
 "metadata": {
  "kernelspec": {
   "display_name": ".venv",
   "language": "python",
   "name": "python3"
  },
  "language_info": {
   "codemirror_mode": {
    "name": "ipython",
    "version": 3
   },
   "file_extension": ".py",
   "mimetype": "text/x-python",
   "name": "python",
   "nbconvert_exporter": "python",
   "pygments_lexer": "ipython3",
   "version": "3.12.6"
  }
 },
 "nbformat": 4,
 "nbformat_minor": 5
}
