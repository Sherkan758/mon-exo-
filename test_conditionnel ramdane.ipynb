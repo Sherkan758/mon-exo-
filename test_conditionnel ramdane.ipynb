{
 "cells": [
  {
   "cell_type": "code",
   "execution_count": 2,
   "id": "0ce2a4ba",
   "metadata": {},
   "outputs": [],
   "source": [
    "# 📝 Complétez les fonctions suivantes qui utilisent des instructions conditionnelles\n",
    "\n",
    "def est_pair(n: int) -> bool:\n",
    "    \"\"\"\n",
    "    Retourne True si le nombre est pair, False sinon.\n",
    "    \"\"\"\n",
    "    if n % 2 == 0:\n",
    "        return True\n",
    "    else:\n",
    "        return False\n",
    "\n",
    "\n",
    "def signe_nombre(n: int) -> str:\n",
    "    \"\"\"\n",
    "    Retourne \"positif\", \"négatif\" ou \"nul\" selon la valeur de n.\n",
    "    \"\"\"\n",
    "    if n >0:\n",
    "        return \"positif\"\n",
    "    elif n < 0:\n",
    "        return \"négatif\"\n",
    "    else:\n",
    "        return \"nul\"\n",
    "\n",
    "def max_de_trois(a: int, b: int, c: int) -> int:\n",
    "    \"\"\"\n",
    "    Retourne la plus grande des trois valeurs.\n",
    "    \"\"\"\n",
    "    return max(a,b,c)\n",
    "\n",
    "def est_majeur(age: int) -> bool:\n",
    "    \"\"\"\n",
    "    Retourne True si l'âge est supérieur ou égal à 18, False sinon.\n",
    "    \"\"\"\n",
    "    if age >= 18:\n",
    "        return True\n",
    "    else:\n",
    "        return False\n"
   ]
  },
  {
   "cell_type": "markdown",
   "id": "676cd41e",
   "metadata": {},
   "source": [
    "# Evaluation de votre code "
   ]
  },
  {
   "cell_type": "code",
   "execution_count": 3,
   "id": "6e58ca96",
   "metadata": {},
   "outputs": [
    {
     "name": "stdout",
     "output_type": "stream",
     "text": [
      "✅ est_pair(4,) == True → OK\n",
      "✅ est_pair(7,) == False → OK\n",
      "✅ signe_nombre(5,) == positif → OK\n",
      "✅ signe_nombre(-3,) == négatif → OK\n",
      "✅ signe_nombre(0,) == nul → OK\n",
      "✅ max_de_trois(1, 5, 3) == 5 → OK\n",
      "✅ max_de_trois(7, 2, 7) == 7 → OK\n",
      "✅ max_de_trois(9, 9, 9) == 9 → OK\n",
      "✅ est_majeur(20,) == True → OK\n",
      "✅ est_majeur(17,) == False → OK\n",
      "\n",
      "📊 Résumé des tests :\n",
      "✅ Réussis : 10\n",
      "❌ Échoués : 0\n"
     ]
    }
   ],
   "source": [
    "# ✅ Cette cellule teste les fonctions conditionnelles définies ci-dessus\n",
    "\n",
    "def run_conditional_tests():\n",
    "    tests = [\n",
    "        (\"est_pair\", est_pair, (4,), True),\n",
    "        (\"est_pair\", est_pair, (7,), False),\n",
    "        (\"signe_nombre\", signe_nombre, (5,), \"positif\"),\n",
    "        (\"signe_nombre\", signe_nombre, (-3,), \"négatif\"),\n",
    "        (\"signe_nombre\", signe_nombre, (0,), \"nul\"),\n",
    "        (\"max_de_trois\", max_de_trois, (1, 5, 3), 5),\n",
    "        (\"max_de_trois\", max_de_trois, (7, 2, 7), 7),\n",
    "        (\"max_de_trois\", max_de_trois, (9, 9, 9), 9),\n",
    "        (\"est_majeur\", est_majeur, (20,), True),\n",
    "        (\"est_majeur\", est_majeur, (17,), False),\n",
    "    ]\n",
    "\n",
    "    passed = 0\n",
    "    failed = 0\n",
    "\n",
    "    for name, func, inputs, expected in tests:\n",
    "        try:\n",
    "            result = func(*inputs)\n",
    "            if result == expected:\n",
    "                print(f\"✅ {name}{inputs} == {expected} → OK\")\n",
    "                passed += 1\n",
    "            else:\n",
    "                print(f\"❌ {name}{inputs} → {result}, attendu : {expected}\")\n",
    "                failed += 1\n",
    "        except Exception as e:\n",
    "            print(f\"❌ {name}{inputs} → Erreur inattendue : {e}\")\n",
    "            failed += 1\n",
    "\n",
    "    print(\"\\n📊 Résumé des tests :\")\n",
    "    print(f\"✅ Réussis : {passed}\")\n",
    "    print(f\"❌ Échoués : {failed}\")\n",
    "\n",
    "run_conditional_tests()\n"
   ]
  }
 ],
 "metadata": {
  "kernelspec": {
   "display_name": "Python 3",
   "language": "python",
   "name": "python3"
  },
  "language_info": {
   "codemirror_mode": {
    "name": "ipython",
    "version": 3
   },
   "file_extension": ".py",
   "mimetype": "text/x-python",
   "name": "python",
   "nbconvert_exporter": "python",
   "pygments_lexer": "ipython3",
   "version": "3.13.3"
  }
 },
 "nbformat": 4,
 "nbformat_minor": 5
}
